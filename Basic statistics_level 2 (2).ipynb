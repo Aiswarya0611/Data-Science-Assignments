{
 "cells": [
  {
   "cell_type": "markdown",
   "id": "b99ed528",
   "metadata": {},
   "source": [
    "# set 1"
   ]
  },
  {
   "cell_type": "code",
   "execution_count": 1,
   "id": "94425f50",
   "metadata": {},
   "outputs": [],
   "source": [
    "import numpy as np\n",
    "import pandas as pd\n",
    "import matplotlib.pyplot as plt\n",
    "import seaborn as sns"
   ]
  },
  {
   "cell_type": "markdown",
   "id": "08b5f55d",
   "metadata": {},
   "source": [
    "# Answer 1"
   ]
  },
  {
   "cell_type": "code",
   "execution_count": 2,
   "id": "9c4aacaf",
   "metadata": {},
   "outputs": [],
   "source": [
    "com=pd.Series([24.23,25.53,25.41,24.14,29.62,28.25,25.81,24.39,40.26,32.95,91.36,25.99,39.42,26.71,35.00])"
   ]
  },
  {
   "cell_type": "code",
   "execution_count": 3,
   "id": "65c995e4",
   "metadata": {},
   "outputs": [
    {
     "data": {
      "text/plain": [
       "33.27133333333333"
      ]
     },
     "execution_count": 3,
     "metadata": {},
     "output_type": "execute_result"
    }
   ],
   "source": [
    "com.mean()"
   ]
  },
  {
   "cell_type": "code",
   "execution_count": 4,
   "id": "39772264",
   "metadata": {},
   "outputs": [
    {
     "data": {
      "text/plain": [
       "16.945400921222028"
      ]
     },
     "execution_count": 4,
     "metadata": {},
     "output_type": "execute_result"
    }
   ],
   "source": [
    "com.std()"
   ]
  },
  {
   "cell_type": "code",
   "execution_count": 5,
   "id": "11845b79",
   "metadata": {},
   "outputs": [
    {
     "data": {
      "text/plain": [
       "287.1466123809524"
      ]
     },
     "execution_count": 5,
     "metadata": {},
     "output_type": "execute_result"
    }
   ],
   "source": [
    "com.var()"
   ]
  },
  {
   "cell_type": "code",
   "execution_count": 6,
   "id": "45d066eb",
   "metadata": {},
   "outputs": [
    {
     "name": "stderr",
     "output_type": "stream",
     "text": [
      "C:\\ProgramData\\Anaconda3\\lib\\site-packages\\seaborn\\_decorators.py:36: FutureWarning: Pass the following variable as a keyword arg: x. From version 0.12, the only valid positional argument will be `data`, and passing other arguments without an explicit keyword will result in an error or misinterpretation.\n",
      "  warnings.warn(\n"
     ]
    },
    {
     "data": {
      "image/png": "[encoded data removed]",
      "text/plain": [
       "<Figure size 640x480 with 1 Axes>"
      ]
     },
     "metadata": {},
     "output_type": "display_data"
    }
   ],
   "source": [
    "sns.boxplot(com)\n",
    "plt.show()"
   ]
  },
  {
   "cell_type": "markdown",
   "id": "c896b0f0",
   "metadata": {},
   "source": [
    "# Answer 2"
   ]
  },
  {
   "cell_type": "code",
   "execution_count": 39,
   "id": "22d27811",
   "metadata": {},
   "outputs": [
    {
     "data": {
      "text/plain": [
       "7"
      ]
     },
     "execution_count": 39,
     "metadata": {},
     "output_type": "execute_result"
    }
   ],
   "source": [
    "#Q2_(i)\n",
    "#IQR=Q3-Q1\n",
    "12-5"
   ]
  },
  {
   "cell_type": "code",
   "execution_count": null,
   "id": "64c7c306",
   "metadata": {},
   "outputs": [],
   "source": [
    "#Q2_(ii)\n",
    " Right skewness"
   ]
  },
  {
   "cell_type": "code",
   "execution_count": null,
   "id": "ab3cdca1",
   "metadata": {},
   "outputs": [],
   "source": [
    "Q2_(iii)\n",
    "In that case there would be no Outliers on the given dataset because of the outlier the data had positive skewness it will reduce and the data will normal distributed"
   ]
  },
  {
   "cell_type": "markdown",
   "id": "d08a2bd9",
   "metadata": {},
   "source": [
    "# Answer 3"
   ]
  },
  {
   "cell_type": "code",
   "execution_count": null,
   "id": "3c8ea601",
   "metadata": {},
   "outputs": [],
   "source": [
    "#Q3_(i)\n",
    "4-8"
   ]
  },
  {
   "cell_type": "code",
   "execution_count": null,
   "id": "af597deb",
   "metadata": {},
   "outputs": [],
   "source": [
    "#Q3_(ii)\n",
    "Right skewed"
   ]
  },
  {
   "cell_type": "code",
   "execution_count": null,
   "id": "cb22c0c7",
   "metadata": {},
   "outputs": [],
   "source": [
    "#Q3_(iii)\n",
    " They both are right skewed and both have outliers the median can be easily\n",
    "visualized in box plot  where as in histogram mode is more visible."
   ]
  },
  {
   "cell_type": "markdown",
   "id": "db964c90",
   "metadata": {},
   "source": [
    "# Answer 4"
   ]
  },
  {
   "cell_type": "code",
   "execution_count": 40,
   "id": "1b6cb330",
   "metadata": {},
   "outputs": [
    {
     "data": {
      "text/plain": [
       "0.005"
      ]
     },
     "execution_count": 40,
     "metadata": {},
     "output_type": "execute_result"
    }
   ],
   "source": [
    "#Q4\n",
    "#probability of calls getting misdirected \n",
    "1/200\n"
   ]
  },
  {
   "cell_type": "code",
   "execution_count": 41,
   "id": "5a0c8cf3",
   "metadata": {},
   "outputs": [
    {
     "data": {
      "text/plain": [
       "0.995"
      ]
     },
     "execution_count": 41,
     "metadata": {},
     "output_type": "execute_result"
    }
   ],
   "source": [
    "#Q4\n",
    "#probability of calls not getting misdirected \n",
    "199/200\n"
   ]
  },
  {
   "cell_type": "code",
   "execution_count": 42,
   "id": "24b8e96c",
   "metadata": {},
   "outputs": [
    {
     "data": {
      "text/plain": [
       "0.024875"
      ]
     },
     "execution_count": 42,
     "metadata": {},
     "output_type": "execute_result"
    }
   ],
   "source": [
    "#Q4\n",
    "#since one in 5 attempts the call reaches the wrong number\n",
    "5*(1/200)*(199/200)\n",
    "     "
   ]
  },
  {
   "cell_type": "markdown",
   "id": "ef514571",
   "metadata": {},
   "source": [
    "# Answer  5"
   ]
  },
  {
   "cell_type": "code",
   "execution_count": null,
   "id": "5f988163",
   "metadata": {},
   "outputs": [],
   "source": [
    "#Q5_(i)\n",
    "The most likely monetary outcome of the business venture is 2000$ As for 2000$ the probability is 0.3 which is maximum as compared to others."
   ]
  },
  {
   "cell_type": "code",
   "execution_count": 44,
   "id": "a3648a48",
   "metadata": {
    "scrolled": true
   },
   "outputs": [
    {
     "data": {
      "text/plain": [
       "0.7999999999999999"
      ]
     },
     "execution_count": 44,
     "metadata": {},
     "output_type": "execute_result"
    }
   ],
   "source": [
    "#Q5_(ii)\n",
    "#probability of success of this venture ie P>0\n",
    "0.2+0.2+0.3+0.1"
   ]
  },
  {
   "cell_type": "code",
   "execution_count": null,
   "id": "2c7a3304",
   "metadata": {},
   "outputs": [],
   "source": [
    "#Q5_(ii) Yes the venture likely to be successfull.0.79 this states that there is a  79% chances for this venture to be making a profit."
   ]
  },
  {
   "cell_type": "code",
   "execution_count": 45,
   "id": "5262356a",
   "metadata": {},
   "outputs": [
    {
     "data": {
      "text/plain": [
       "800.0"
      ]
     },
     "execution_count": 45,
     "metadata": {},
     "output_type": "execute_result"
    }
   ],
   "source": [
    "#Q5_(iii)\n",
    "#longterm average earning of business venture(X)*p(x))\n",
    "(-2000*0.1)+(-1000*0.1)+(0*0.2)+(1000*0.2)+(2000*0.3)+(3000*0.1)\n",
    "     "
   ]
  },
  {
   "cell_type": "code",
   "execution_count": 46,
   "id": "d20af70b",
   "metadata": {},
   "outputs": [
    {
     "data": {
      "text/plain": [
       "2800000"
      ]
     },
     "execution_count": 46,
     "metadata": {},
     "output_type": "execute_result"
    }
   ],
   "source": [
    "#Q5_(iv)\n",
    "\n",
    "#The good measure of the risk involved in a venture of this kind depends on the Variability in the distribution\n",
    "#computing the risk factor by variance \n",
    "(-2000*-200)+(-1000*-100)+(0*0)+(1000*200)+(6000*200)+(3000*300)"
   ]
  },
  {
   "cell_type": "code",
   "execution_count": 47,
   "id": "ca6df194",
   "metadata": {},
   "outputs": [
    {
     "data": {
      "text/plain": [
       "640000"
      ]
     },
     "execution_count": 47,
     "metadata": {},
     "output_type": "execute_result"
    }
   ],
   "source": [
    "#square of longterm average income\n",
    "800*800\n",
    "   "
   ]
  },
  {
   "cell_type": "code",
   "execution_count": 48,
   "id": "ed5c1ab8",
   "metadata": {},
   "outputs": [
    {
     "data": {
      "text/plain": [
       "2160000"
      ]
     },
     "execution_count": 48,
     "metadata": {},
     "output_type": "execute_result"
    }
   ],
   "source": [
    "#VAR=\n",
    "2800000-640000"
   ]
  },
  {
   "cell_type": "markdown",
   "id": "019ddb3b",
   "metadata": {},
   "source": [
    "# set 2"
   ]
  },
  {
   "cell_type": "code",
   "execution_count": 2,
   "id": "55deb6c8",
   "metadata": {},
   "outputs": [],
   "source": [
    "import pandas as pd\n",
    "import numpy as np\n",
    "from scipy import stats\n",
    "import matplotlib.pyplot as plt\n",
    "import seaborn as sns\n"
   ]
  },
  {
   "cell_type": "code",
   "execution_count": null,
   "id": "db43c286",
   "metadata": {},
   "outputs": [],
   "source": [
    "# Answer 1"
   ]
  },
  {
   "cell_type": "code",
   "execution_count": 50,
   "id": "b13e7aa8",
   "metadata": {},
   "outputs": [
    {
     "data": {
      "text/plain": [
       "1.25"
      ]
     },
     "execution_count": 50,
     "metadata": {},
     "output_type": "execute_result"
    }
   ],
   "source": [
    "((55-45)/8)"
   ]
  },
  {
   "cell_type": "code",
   "execution_count": 51,
   "id": "9fe11644",
   "metadata": {},
   "outputs": [],
   "source": [
    "q1 = stats.norm.sf(60, loc = mew, scale = std)"
   ]
  },
  {
   "cell_type": "code",
   "execution_count": 52,
   "id": "bebf6677",
   "metadata": {},
   "outputs": [
    {
     "data": {
      "text/plain": [
       "0.26598552904870054"
      ]
     },
     "execution_count": 52,
     "metadata": {},
     "output_type": "execute_result"
    }
   ],
   "source": [
    "q1"
   ]
  },
  {
   "cell_type": "code",
   "execution_count": 21,
   "id": "16c0cf98",
   "metadata": {},
   "outputs": [
    {
     "data": {
      "text/plain": [
       "0.3413447460685429"
      ]
     },
     "execution_count": 21,
     "metadata": {},
     "output_type": "execute_result"
    }
   ],
   "source": [
    "#Q2_A\n",
    "# p(38<X<44); Employees between 38 to 44 yrs of age\n",
    "stats.norm.cdf(44,38,6)-stats.norm.cdf(38,38,6)"
   ]
  },
  {
   "cell_type": "code",
   "execution_count": 22,
   "id": "c623fffb",
   "metadata": {},
   "outputs": [
    {
     "data": {
      "text/plain": [
       "0.09121121972586788"
      ]
     },
     "execution_count": 22,
     "metadata": {},
     "output_type": "execute_result"
    }
   ],
   "source": [
    "#Q2_B\n",
    "# P(X<30); Employees under 30 yrs of age\n",
    "stats.norm.cdf(30,38,6)"
   ]
  },
  {
   "cell_type": "code",
   "execution_count": 23,
   "id": "0cdb505c",
   "metadata": {},
   "outputs": [
    {
     "data": {
      "text/plain": [
       "36.484487890347154"
      ]
     },
     "execution_count": 23,
     "metadata": {},
     "output_type": "execute_result"
    }
   ],
   "source": [
    "# No. of employees attending training program from 400 nos. is N*P(X<30)\n",
    "400*stats.norm.cdf(30,38,6)"
   ]
  },
  {
   "cell_type": "markdown",
   "id": "1b9807cf",
   "metadata": {},
   "source": [
    "# Answer 4"
   ]
  },
  {
   "cell_type": "code",
   "execution_count": 28,
   "id": "12250e78",
   "metadata": {},
   "outputs": [
    {
     "data": {
      "text/plain": [
       "(48.48341392902199, 151.516586070978)"
      ]
     },
     "execution_count": 28,
     "metadata": {},
     "output_type": "execute_result"
    }
   ],
   "source": [
    "stats.norm.interval(0.99,100,20)"
   ]
  },
  {
   "cell_type": "markdown",
   "id": "6fa43a12",
   "metadata": {},
   "source": [
    "# ANSWER 5 "
   ]
  },
  {
   "cell_type": "code",
   "execution_count": 29,
   "id": "79e533f9",
   "metadata": {},
   "outputs": [
    {
     "data": {
      "text/plain": [
       "540"
      ]
     },
     "execution_count": 29,
     "metadata": {},
     "output_type": "execute_result"
    }
   ],
   "source": [
    "#A)\n",
    "# addition of mean profits from two different division and multiplying\n",
    "#with 45 as 1$ = Rs45 \n",
    "(7+5)*45"
   ]
  },
  {
   "cell_type": "code",
   "execution_count": 30,
   "id": "b54c9398",
   "metadata": {},
   "outputs": [
    {
     "data": {
      "text/plain": [
       "225.0"
      ]
     },
     "execution_count": 30,
     "metadata": {},
     "output_type": "execute_result"
    }
   ],
   "source": [
    "#addition of variance of profits\n",
    "np.sqrt(9+16)*45"
   ]
  },
  {
   "cell_type": "code",
   "execution_count": 32,
   "id": "4d7f4437",
   "metadata": {},
   "outputs": [
    {
     "data": {
      "text/plain": [
       "(99.00810347848784, 980.9918965215122)"
      ]
     },
     "execution_count": 32,
     "metadata": {},
     "output_type": "execute_result"
    }
   ],
   "source": [
    "#Q5_A\n",
    "#calculating total annual profits at 95% probability \n",
    "stats.norm.interval(0.95,540,225)"
   ]
  },
  {
   "cell_type": "code",
   "execution_count": 34,
   "id": "3bff0f0d",
   "metadata": {},
   "outputs": [
    {
     "data": {
      "text/plain": [
       "-1.6448536269514729"
      ]
     },
     "execution_count": 34,
     "metadata": {},
     "output_type": "execute_result"
    }
   ],
   "source": [
    "#Q5_B\n",
    "#5th percentile of the profit \n",
    "stats.norm.ppf(0.05)"
   ]
  },
  {
   "cell_type": "code",
   "execution_count": 36,
   "id": "e577e9c3",
   "metadata": {},
   "outputs": [
    {
     "data": {
      "text/plain": [
       "170.10000000000002"
      ]
     },
     "execution_count": 36,
     "metadata": {},
     "output_type": "execute_result"
    }
   ],
   "source": [
    "#Q5_B\n",
    "#To compute 5th Percentile, we use the formula X=μ + Zσ \n",
    "540+(-1.644)*225"
   ]
  },
  {
   "cell_type": "code",
   "execution_count": 37,
   "id": "d63a57e7",
   "metadata": {},
   "outputs": [
    {
     "data": {
      "text/plain": [
       "0.0477903522728147"
      ]
     },
     "execution_count": 37,
     "metadata": {},
     "output_type": "execute_result"
    }
   ],
   "source": [
    "#Q5_C\n",
    "#division1 making loss\n",
    "stats.norm.cdf(0,5,3)"
   ]
  },
  {
   "cell_type": "code",
   "execution_count": 38,
   "id": "f8cdac10",
   "metadata": {},
   "outputs": [
    {
     "data": {
      "text/plain": [
       "0.040059156863817086"
      ]
     },
     "execution_count": 38,
     "metadata": {},
     "output_type": "execute_result"
    }
   ],
   "source": [
    "#Q5_C\n",
    "#division2 making loss\n",
    "stats.norm.cdf(0,7,4)\n",
    "     "
   ]
  },
  {
   "cell_type": "markdown",
   "id": "7542fe59",
   "metadata": {},
   "source": [
    "# SET 3 "
   ]
  },
  {
   "cell_type": "markdown",
   "id": "53a16a52",
   "metadata": {},
   "source": [
    "# Answer 5"
   ]
  },
  {
   "cell_type": "code",
   "execution_count": 54,
   "id": "f57021d2",
   "metadata": {},
   "outputs": [
    {
     "data": {
      "text/plain": [
       "-0.820782681668124"
      ]
     },
     "execution_count": 54,
     "metadata": {},
     "output_type": "execute_result"
    }
   ],
   "source": [
    "#null hypothesis : P>5%\n",
    "#alternate hypothesis:p<5%\n",
    "#test statistics >1.64 accept H0\n",
    "#test statistics <1.64 accept H1\n",
    "z=(0.046-0.05)/(np.sqrt((0.05*(1-0.05))/2000))\n",
    "z"
   ]
  },
  {
   "cell_type": "code",
   "execution_count": 55,
   "id": "b217b4ce",
   "metadata": {},
   "outputs": [
    {
     "data": {
      "text/plain": [
       "0.20588503245107104"
      ]
     },
     "execution_count": 55,
     "metadata": {},
     "output_type": "execute_result"
    }
   ],
   "source": [
    "pvalue=1-stats.norm.cdf(abs(z))\n",
    "pvalue"
   ]
  },
  {
   "cell_type": "code",
   "execution_count": null,
   "id": "651b37de",
   "metadata": {},
   "outputs": [],
   "source": [
    "#Q5\n",
    "#Here test statistics <1.64 i.e .20<1.64\n",
    "#so accept H1 yes, we can conclude that Mozilla has a less than 5% share of the market"
   ]
  },
  {
   "cell_type": "code",
   "execution_count": null,
   "id": "a1608f25",
   "metadata": {},
   "outputs": [],
   "source": [
    "#Q8\n",
    "# confidence interval at 95%\n",
    "stats.norm.interval(0.95)\n"
   ]
  },
  {
   "cell_type": "code",
   "execution_count": 6,
   "id": "f8ca29d9",
   "metadata": {},
   "outputs": [
    {
     "data": {
      "text/plain": [
       "594.1406249999999"
      ]
     },
     "execution_count": 6,
     "metadata": {},
     "output_type": "execute_result"
    }
   ],
   "source": [
    "#Q8\n",
    "(1.95)*(1.95)*((0.5)*(0.5))/((0.04)*(0.04))"
   ]
  },
  {
   "cell_type": "markdown",
   "id": "bb31d177",
   "metadata": {},
   "source": [
    "# Answer 9"
   ]
  },
  {
   "cell_type": "code",
   "execution_count": 5,
   "id": "05cf3e52",
   "metadata": {},
   "outputs": [
    {
     "data": {
      "text/plain": [
       "(-2.3263478740408408, 2.3263478740408408)"
      ]
     },
     "execution_count": 5,
     "metadata": {},
     "output_type": "execute_result"
    }
   ],
   "source": [
    "# confidence interval at 98%\n",
    "stats.norm.interval(0.98)\n"
   ]
  },
  {
   "cell_type": "code",
   "execution_count": 7,
   "id": "36dcee25",
   "metadata": {},
   "outputs": [
    {
     "data": {
      "text/plain": [
       "845.355625"
      ]
     },
     "execution_count": 7,
     "metadata": {},
     "output_type": "execute_result"
    }
   ],
   "source": [
    "(2.326)*(2.326)*((0.5)*(0.5))/((0.04)*(0.04))"
   ]
  },
  {
   "cell_type": "markdown",
   "id": "69ea1bea",
   "metadata": {},
   "source": [
    "# Set 4"
   ]
  },
  {
   "cell_type": "markdown",
   "id": "bbf22d82",
   "metadata": {},
   "source": [
    "# Answer 3"
   ]
  },
  {
   "cell_type": "code",
   "execution_count": 57,
   "id": "3321bc9c",
   "metadata": {},
   "outputs": [
    {
     "data": {
      "text/plain": [
       "-1.25"
      ]
     },
     "execution_count": 57,
     "metadata": {},
     "output_type": "execute_result"
    }
   ],
   "source": [
    "# For No investigation P(45<X<55)\n",
    "# For Investigation 1-P(45<X<55)\n",
    "# find z-scores at x=45\n",
    "z=(45-50)/(40/100**0.5)\n",
    "z"
   ]
  },
  {
   "cell_type": "code",
   "execution_count": 58,
   "id": "070697c9",
   "metadata": {},
   "outputs": [
    {
     "data": {
      "text/plain": [
       "1.25"
      ]
     },
     "execution_count": 58,
     "metadata": {},
     "output_type": "execute_result"
    }
   ],
   "source": [
    "# find z-scores at x=55\n",
    "z=(55-50)/(40/100**0.5)\n",
    "z"
   ]
  },
  {
   "cell_type": "code",
   "execution_count": 59,
   "id": "be99dd8d",
   "metadata": {},
   "outputs": [
    {
     "data": {
      "text/plain": [
       "0.7887004526662893"
      ]
     },
     "execution_count": 59,
     "metadata": {},
     "output_type": "execute_result"
    }
   ],
   "source": [
    "# For No investigation P(45<X<55) using z = P(X<50)-P(X<45)\n",
    "stats.norm.cdf(1.25)-stats.norm.cdf(-1.25)"
   ]
  },
  {
   "cell_type": "code",
   "execution_count": 64,
   "id": "678e23ad",
   "metadata": {},
   "outputs": [
    {
     "data": {
      "text/plain": [
       "(45.00000495667348, 54.99999504332652)"
      ]
     },
     "execution_count": 64,
     "metadata": {},
     "output_type": "execute_result"
    }
   ],
   "source": [
    "stats.norm.interval(0.7887,50,40/(100**.5))"
   ]
  },
  {
   "cell_type": "code",
   "execution_count": 77,
   "id": "45076800",
   "metadata": {},
   "outputs": [
    {
     "data": {
      "text/plain": [
       "0.21130000000000004"
      ]
     },
     "execution_count": 77,
     "metadata": {},
     "output_type": "execute_result"
    }
   ],
   "source": [
    "#Q3\n",
    "# For Investigation 1-P(45<X<55)\n",
    "1-0.7887"
   ]
  },
  {
   "cell_type": "markdown",
   "id": "f54f38a0",
   "metadata": {},
   "source": [
    "# Answer 4"
   ]
  },
  {
   "cell_type": "code",
   "execution_count": 76,
   "id": "59e1102b",
   "metadata": {},
   "outputs": [
    {
     "data": {
      "text/plain": [
       "245.86240000000004"
      ]
     },
     "execution_count": 76,
     "metadata": {},
     "output_type": "execute_result"
    }
   ],
   "source": [
    "## As z = (sample_mean-population-mean)/(standard deviation/sqrt(n))\n",
    "## So 1.96 = 5 /(40/sqrt(n))\n",
    "## => 1.96 = 5 * sqrt(n)/40\n",
    "## => sqrt(n) = (1.96*40)/5\n",
    "\n",
    "n = ((1.96*40)/5)**2\n",
    "n"
   ]
  },
  {
   "cell_type": "markdown",
   "id": "7a188364",
   "metadata": {},
   "source": [
    "# Answer 5"
   ]
  },
  {
   "cell_type": "code",
   "execution_count": 16,
   "id": "651b2000",
   "metadata": {},
   "outputs": [
    {
     "data": {
      "text/plain": [
       "0.6"
      ]
     },
     "execution_count": 16,
     "metadata": {},
     "output_type": "execute_result"
    }
   ],
   "source": [
    "#Standard error = standard deviation / sample size\n",
    "120 /np.sqrt(40000)"
   ]
  }
 ],
 "metadata": {
  "kernelspec": {
   "display_name": "Python 3 (ipykernel)",
   "language": "python",
   "name": "python3"
  },
  "language_info": {
   "codemirror_mode": {
    "name": "ipython",
    "version": 3
   },
   "file_extension": ".py",
   "mimetype": "text/x-python",
   "name": "python",
   "nbconvert_exporter": "python",
   "pygments_lexer": "ipython3",
   "version": "3.9.13"
  }
 },
 "nbformat": 4,
 "nbformat_minor": 5
}
